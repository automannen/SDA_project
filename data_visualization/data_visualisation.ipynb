{
 "cells": [
  {
   "cell_type": "code",
   "execution_count": null,
   "metadata": {},
   "outputs": [],
   "source": [
    "import pandas as pd\n",
    "import matplotlib.pyplot as plt\n",
    "import numpy as np\n",
    "from scipy.stats import spearmanr\n",
    "from collections import defaultdict"
   ]
  },
  {
   "cell_type": "code",
   "execution_count": null,
   "metadata": {},
   "outputs": [],
   "source": [
    "chosen_countries = ['Australia', 'Austria', 'Belgium', 'Canada', 'Chile', 'Czechia', 'Estonia', 'Finland', 'Germany', 'Greece', 'Hungary', 'Iceland', 'Ireland', 'Italy', 'Korea', 'Latvia', 'Luxembourg', 'Netherlands', 'New Zealand', 'Norway', 'Portugal', 'Slovak Republic', 'Slovenia', 'Spain', 'Sweden', 'Türkiye']\n",
    "\n",
    "life_expectancy_data = pd.read_csv('../data/life_expectancy.csv')\n",
    "life_vars = life_expectancy_data[\"Variable\"].unique().tolist()\n",
    "pharma_sales_data = pd.read_csv('../data/pharma_sales_ppp.csv')\n",
    "drug_vars = pharma_sales_data[\"Variable\"].unique().tolist()"
   ]
  },
  {
   "cell_type": "code",
   "execution_count": null,
   "metadata": {},
   "outputs": [],
   "source": [
    "def merge_and_plot(filtered_data_x, filtered_data_y, label_x, label_y):\n",
    "    merged_data = pd.merge(filtered_data_x, filtered_data_y, on=\"Country\", how=\"inner\")\n",
    "    selected_data = merged_data[[\"Country\", \"Value_x\", \"Value_y\"]]\n",
    "    selected_data.columns = [\"Country\", label_x, label_y]\n",
    "\n",
    "    plt.scatter(selected_data[label_x], selected_data[label_y])\n",
    "    plt.xlabel(label_x)\n",
    "    plt.ylabel(label_y)\n",
    "    plt.show()\n",
    "\n",
    "def p_value_correlation(filtered_data_x, filtered_data_y, label_x, label_y, threshold):\n",
    "\n",
    "    merged_data = pd.merge(filtered_data_x, filtered_data_y, on=\"Country\", how=\"inner\")\n",
    "    selected_data = merged_data[[\"Country\", \"Value_x\", \"Value_y\"]]\n",
    "    selected_data.columns = [\"Country\", label_x, label_y]\n",
    "    corr, p_value = spearmanr(selected_data[label_x], selected_data[label_y])\n",
    "\n",
    "    if corr >= threshold or corr <= -threshold:\n",
    "\n",
    "        # p value calculated in the spearman correlation is the correlation value\n",
    "        # it is first transformed to a Z-score which normalizes it, so the data can\n",
    "        # be seen as a normal distribution. The p-value is calculated with the cdf\n",
    "        # and does a two tailed test. The test is done with a t-distribution\n",
    "        print(\"X:\", label_x, \"Y:\", label_y)\n",
    "        print(\"correlation between X and Y: \", corr)\n",
    "        print(\"p value for correlation: \", p_value)\n",
    "\n",
    "        if p_value <= 0.05:\n",
    "            print(\"HYPOTHESIS REJECTED\")\n",
    "        else:\n",
    "            print(\"HYPOTHESIS ACCEPTED\")\n",
    "\n",
    "def filter_data(data, year, variable, measure=None):\n",
    "    if measure:\n",
    "        return data[\n",
    "            (data[\"Year\"] == year) &\n",
    "            (data[\"Country\"].isin(chosen_countries)) &\n",
    "            (data[\"Variable\"] == variable) &\n",
    "            (data[\"Measure\"] == measure)\n",
    "        ]\n",
    "    else:\n",
    "        return data[\n",
    "            (data[\"Year\"] == year) &\n",
    "            (data[\"Country\"].isin(chosen_countries)) &\n",
    "            (data[\"Variable\"] == variable)\n",
    "        ]\n"
   ]
  },
  {
   "cell_type": "code",
   "execution_count": null,
   "metadata": {},
   "outputs": [],
   "source": [
    "for drug in drug_vars:\n",
    "\n",
    "    filtered_pharma_sales = filter_data(pharma_sales_data, 2014, drug)\n",
    "    for life in life_vars:\n",
    "        filtered_life_expectancy = filter_data(life_expectancy_data, 2014, life, \"Years\")\n",
    "\n",
    "        # merge_and_plot(filtered_pharma_sales, filtered_life_expectancy, str(drug), str(life))\n",
    "        p_value_correlation(filtered_pharma_sales, filtered_life_expectancy, str(drug), str(life), 0.4)\n"
   ]
  },
  {
   "cell_type": "code",
   "execution_count": null,
   "metadata": {},
   "outputs": [],
   "source": [
    "\n",
    "\n",
    "for drug1 in drug_vars:\n",
    "\n",
    "    filtered_pharma_sales1 = filter_data(pharma_sales_data, 2014, drug1)\n",
    "\n",
    "    for drug2 in drug_vars:\n",
    "        filtered_pharma_sales2 = filter_data(pharma_sales_data, 2014, drug2)\n",
    "        if drug1 != drug2:\n",
    "\n",
    "            # merge_and_plot(filtered_pharma_sales1, filtered_pharma_sales2, str(drug1), str(drug2))\n",
    "            p_value_correlation(filtered_pharma_sales1, filtered_pharma_sales2, str(drug1), str(drug2), 0.4)"
   ]
  },
  {
   "cell_type": "code",
   "execution_count": null,
   "metadata": {},
   "outputs": [],
   "source": [
    "alcohol_consumption_data = pd.read_csv('../data/alcohol_consump.csv')\n",
    "alcohol_measures = alcohol_consumption_data[\"Measure\"].unique().tolist()\n",
    "\n",
    "for alcohol in alcohol_measures:\n",
    "    filtered_alcohol_consumption = filter_data(alcohol_consumption_data, 2014, \"Alcohol consumption\", alcohol)\n",
    "\n",
    "    for life in life_vars:\n",
    "        filtered_life_expectancy = filter_data(life_expectancy_data, 2014, life, \"Years\")\n",
    "\n",
    "        # merge_and_plot(filtered_alcohol_consumption, filtered_life_expectancy, str(alcohol), str(life))\n",
    "        p_value_correlation(filtered_alcohol_consumption, filtered_life_expectancy, str(alcohol), str(life), 0.4)"
   ]
  },
  {
   "cell_type": "code",
   "execution_count": null,
   "metadata": {},
   "outputs": [],
   "source": [
    "# food data werkt nog niet\n",
    "\n",
    "food_data = pd.read_csv('../data/food.csv')\n",
    "food_measures = food_data[\"Measure\"].unique().tolist()\n",
    "food_variables = food_data[\"Variable\"].unique().tolist()\n",
    "\n",
    "for food in food_variables:\n",
    "    filtered_food_data = filter_data(food_data, 2014, food)\n",
    "\n",
    "    for life in life_vars:\n",
    "        filtered_life_expectancy = filter_data(life_expectancy_data, 2014, life, \"Years\")\n",
    "\n",
    "\n",
    "        merge_and_plot(filtered_food_data, filtered_life_expectancy, str(food), str(life))\n",
    "        p_value_correlation(filtered_food_data, filtered_life_expectancy, str(food), str(life), 0.4)"
   ]
  },
  {
   "cell_type": "markdown",
   "metadata": {},
   "source": [
    "Testing for heteroscedasticity with the multiple regression for the genders apart. In the plots a coneshape can be seen denk ik."
   ]
  },
  {
   "cell_type": "code",
   "execution_count": null,
   "metadata": {},
   "outputs": [],
   "source": [
    "from sklearn.linear_model import LinearRegression\n",
    "\n",
    "variables = [\"A02B-Drugs for peptic ulcer and gastro-oesophageal reflux diseases (GORD)\", \"N-Nervous system\", \"N06A-Antidepressants\"]\n",
    "genders = [\"Females at age 40\", \"Males at age 40\"]\n",
    "\n",
    "\n",
    "filtered_pharma_sales = pharma_sales_data[\n",
    "    (pharma_sales_data[\"Year\"] == 2014) &\n",
    "    (pharma_sales_data[\"Country\"].isin(chosen_countries)) &\n",
    "    (pharma_sales_data[\"Variable\"].isin(variables))\n",
    "]\n",
    "\n",
    "df = defaultdict(lambda: [])\n",
    "for drug in filtered_pharma_sales[[\"Variable\", \"Value\"]].iterrows():\n",
    "    df[drug[1][\"Variable\"]].append(drug[1][\"Value\"])\n",
    "\n",
    "df = pd.DataFrame(df)\n",
    "\n",
    "X = df[[\"A02B-Drugs for peptic ulcer and gastro-oesophageal reflux diseases (GORD)\", \"N-Nervous system\", \"N06A-Antidepressants\"]]\n",
    "\n",
    "for gender in genders:\n",
    "    filtered_life_expectancy = filter_data(life_expectancy_data, 2014, gender, \"Years\")\n",
    "\n",
    "    y = filtered_life_expectancy[\"Value\"]\n",
    "    model = LinearRegression()\n",
    "    model.fit(X, y)\n",
    "    intercept = model.intercept_\n",
    "    coeff = model.coef_\n",
    "\n",
    "    y_predicted = model.predict(X)\n",
    "    residuals = y - y_predicted\n",
    "\n",
    "    print(\"sum of the residuals: \", np.sum(residuals))\n",
    "    plt.xlabel(\"de 'echte' waarde van leeftijd \" + gender)\n",
    "    plt.scatter(y, residuals)\n",
    "    plt.ylabel(\"de residuals voor die 'echte' waarde\")\n",
    "    plt.show()"
   ]
  },
  {
   "cell_type": "markdown",
   "metadata": {},
   "source": [
    "Checking for heteroskedacity and doing regression on one of the variables and visualizing the data."
   ]
  },
  {
   "cell_type": "code",
   "execution_count": null,
   "metadata": {},
   "outputs": [],
   "source": [
    "for gender in genders:\n",
    "    for drug in variables:\n",
    "        X = df[[drug]]\n",
    "\n",
    "        y = filter_data(life_expectancy_data, 2014, gender, \"Years\")[\"Value\"]\n",
    "\n",
    "        model = LinearRegression()\n",
    "        model.fit(X, y)\n",
    "        intercept = model.intercept_\n",
    "        coeff = model.coef_\n",
    "\n",
    "        y_pred = model.predict(X)\n",
    "\n",
    "        residuals = y - y_pred\n",
    "        print(\"the sum of residuals: \", np.sum(residuals))\n",
    "        plt.scatter(y, residuals)\n",
    "        plt.xlabel(gender)\n",
    "        plt.ylabel('The residuals')\n",
    "        plt.show()\n",
    "\n",
    "        x_pharmasales = np.linspace(min(X[drug]), max(X[drug]), 1000)\n",
    "\n",
    "        plt.scatter(X, y)\n",
    "        plt.xlabel('ppp van' + drug)\n",
    "        plt.ylabel(gender)\n",
    "        plt.plot(x_pharmasales, intercept + x_pharmasales * coeff, color=\"orange\", label='fitted line')\n",
    "        plt.legend()\n",
    "        plt.show()"
   ]
  }
 ],
 "metadata": {
  "kernelspec": {
   "display_name": "Python 3",
   "language": "python",
   "name": "python3"
  },
  "language_info": {
   "codemirror_mode": {
    "name": "ipython",
    "version": 3
   },
   "file_extension": ".py",
   "mimetype": "text/x-python",
   "name": "python",
   "nbconvert_exporter": "python",
   "pygments_lexer": "ipython3",
   "version": "3.10.9"
  }
 },
 "nbformat": 4,
 "nbformat_minor": 2
}
